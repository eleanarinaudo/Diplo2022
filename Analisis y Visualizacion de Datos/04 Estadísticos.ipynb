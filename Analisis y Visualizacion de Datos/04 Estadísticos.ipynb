{
 "cells": [
  {
   "cell_type": "code",
   "execution_count": 1,
   "metadata": {
    "id": "RMExMm55oNLa"
   },
   "outputs": [],
   "source": [
    "import numpy\n",
    "import scipy.stats\n",
    "import seaborn\n",
    "\n",
    "seaborn.set_context('talk')"
   ]
  },
  {
   "cell_type": "markdown",
   "metadata": {
    "id": "sJSeWq4-oQo_"
   },
   "source": [
    "# Distribución de estadísticos, TCL\n",
    "\n",
    "## Generación de datos\n",
    "\n",
    "1. Generamos 1 realización de una muestra aleatoria $X_1,  ... X_n$ (de tamaño n)\n",
    "\n",
    "$X_1,  ... X_n$ (i.i.d) con cada $X_i$ con distribución conocida (mejor no normal). Por ejemplo: Poisson. Graficar la distribución de la muestra.\n",
    "\n",
    "2. Luego tenemos 1 realización del estadístico $\\overline{X}= \\frac{1}{n} \\sum_{i=1}^{n} X_i$.\n",
    "\n"
   ]
  },
  {
   "cell_type": "code",
   "execution_count": 2,
   "metadata": {
    "colab": {
     "base_uri": "https://localhost:8080/",
     "height": 351
    },
    "executionInfo": {
     "elapsed": 571,
     "status": "ok",
     "timestamp": 1649459914304,
     "user": {
      "displayName": "Valeria S RULLONI",
      "userId": "09936144167370803067"
     },
     "user_tz": 180
    },
    "id": "3UO2q_UUwsrl",
    "outputId": "461ee68e-2768-4a33-900c-f4578770d74a"
   },
   "outputs": [
    {
     "name": "stdout",
     "output_type": "stream",
     "text": [
      "promedio de la muestra= 4.988 , una realización del estadístico media muestral\n"
     ]
    },
    {
     "name": "stderr",
     "output_type": "stream",
     "text": [
      "C:\\Users\\EleanaRinaudo\\anaconda3\\lib\\site-packages\\seaborn\\_decorators.py:36: FutureWarning: Pass the following variable as a keyword arg: x. From version 0.12, the only valid positional argument will be `data`, and passing other arguments without an explicit keyword will result in an error or misinterpretation.\n",
      "  warnings.warn(\n"
     ]
    },
    {
     "data": {
      "image/png": "[encoded data removed]",
      "text/plain": [
       "<Figure size 432x288 with 1 Axes>"
      ]
     },
     "metadata": {
      "needs_background": "light"
     },
     "output_type": "display_data"
    }
   ],
   "source": [
    "# Generación de muestras de una distribución oisson\n",
    "\n",
    "n = 500 \n",
    "\n",
    "lambd = 5 \n",
    "\n",
    "sample = scipy.stats.poisson.rvs(lambd, size=n) #realización de una muestra aleatoria X_1,  ... X_n (de tamaño n)\n",
    "\n",
    "seaborn.countplot(sample)\n",
    "#seaborn.histplot(sample, bins=12)\n",
    "print ('promedio de la muestra=', sample.mean(), ', una realización del estadístico media muestral')\n"
   ]
  },
  {
   "cell_type": "markdown",
   "metadata": {
    "id": "1Shfeq87wEkA"
   },
   "source": [
    "1. Generamos m realizaciones de una muestra aleatoria $X_1,  ... X_n$ (de tamaño n)\n",
    "\n",
    "$X_1,  ... X_n$ (i.i.d) con cada $X_i$ con distribución no normal. Por ejemplo: Poisson. Elegir una realización y graficar la distribución de la muestra.\n",
    "\n",
    "2. Luego tendríamos N realizaciones del estadístico $\\overline{X}= \\frac{1}{n} \\sum_{i=1}^{n} X_i$.\n",
    "\n",
    "Graficar la distribución de estas realizaciones (de las medias muestrales). ¿Se parece a una distribución normal?"
   ]
  },
  {
   "cell_type": "markdown",
   "metadata": {},
   "source": [
    "Generación de muestras de una distribución poisson"
   ]
  },
  {
   "cell_type": "code",
   "execution_count": 3,
   "metadata": {
    "id": "ldyZ2ipIomKf"
   },
   "outputs": [],
   "source": [
    "m = 400 #m filas, m realizaciones de una muestra aleatoria X_1,  ... X_n (tamaño n)\n",
    "n = 1500 \n",
    "\n",
    "lambd = 5 \n",
    "\n",
    "samples = scipy.stats.poisson.rvs(lambd, size=(m, n))"
   ]
  },
  {
   "cell_type": "markdown",
   "metadata": {},
   "source": [
    "Generación de muestras de una distribución exponencial\n",
    "\n",
    "https://docs.scipy.org/doc/scipy/reference/generated/scipy.stats.expon.html"
   ]
  },
  {
   "cell_type": "code",
   "execution_count": 4,
   "metadata": {
    "id": "93fsFbSt0TbY"
   },
   "outputs": [],
   "source": [
    "l = 5\n",
    "s = 2\n",
    "# media=l+s\n",
    "# varianza=s^2\n",
    "m = 100 #m filas, m realizaciones de una muestra aleatoria X_1,  ... X_n (tamaño n)\n",
    "n = 2000 \n",
    "samples = scipy.stats.expon.rvs(loc=l,scale=s,size=(m, n))"
   ]
  },
  {
   "cell_type": "code",
   "execution_count": 5,
   "metadata": {
    "colab": {
     "base_uri": "https://localhost:8080/",
     "height": 314
    },
    "executionInfo": {
     "elapsed": 782,
     "status": "ok",
     "timestamp": 1649464590411,
     "user": {
      "displayName": "Valeria S RULLONI",
      "userId": "09936144167370803067"
     },
     "user_tz": 180
    },
    "id": "-LUccLEUosjq",
    "outputId": "4a8e7072-305e-4019-96f6-21990233d511"
   },
   "outputs": [
    {
     "name": "stdout",
     "output_type": "stream",
     "text": [
      "[ 5.85655227  5.03472811 10.15073294  6.5208268 ] ... [9.60888444 8.68147051 5.99105184 5.78860609]\n",
      "media=  6.9916883409760135\n"
     ]
    },
    {
     "data": {
      "image/png": "[encoded data removed]",
      "text/plain": [
       "<Figure size 432x288 with 1 Axes>"
      ]
     },
     "metadata": {
      "needs_background": "light"
     },
     "output_type": "display_data"
    }
   ],
   "source": [
    "#primera realización de la m.a.\n",
    "print(samples[0][:4],'...', samples[0][-5:-1])\n",
    "\n",
    "# Histograma de la i-ésima realización de la muestra\n",
    "i=9\n",
    "#seaborn.countplot(samples[i])\n",
    "seaborn.histplot(samples[i], bins=15)\n",
    "print('media= ', samples[i].mean())"
   ]
  },
  {
   "cell_type": "code",
   "execution_count": 6,
   "metadata": {
    "colab": {
     "base_uri": "https://localhost:8080/"
    },
    "executionInfo": {
     "elapsed": 499,
     "status": "ok",
     "timestamp": 1649464599957,
     "user": {
      "displayName": "Valeria S RULLONI",
      "userId": "09936144167370803067"
     },
     "user_tz": 180
    },
    "id": "KroDnr94nrTw",
    "outputId": "87b36774-1517-41b0-c4b7-64b56ca6ef6d"
   },
   "outputs": [
    {
     "name": "stdout",
     "output_type": "stream",
     "text": [
      "6.904422609843096 7.078954072108931\n",
      "0.1745314622658345\n"
     ]
    }
   ],
   "source": [
    "alpha = 0.05\n",
    "z_0975 = 1.96\n",
    "media = samples[i].mean()\n",
    "std = samples[i].std()\n",
    "estadistico_liminf = media-(std*z_0975/numpy.sqrt(n))\n",
    "estadistico_limsup = media+(std*z_0975/numpy.sqrt(n))\n",
    "print(estadistico_liminf,estadistico_limsup)\n",
    "print(estadistico_limsup-estadistico_liminf)"
   ]
  },
  {
   "cell_type": "markdown",
   "metadata": {},
   "source": [
    "Calculamos la media para cada una de las muestras. "
   ]
  },
  {
   "cell_type": "code",
   "execution_count": 7,
   "metadata": {
    "colab": {
     "base_uri": "https://localhost:8080/"
    },
    "executionInfo": {
     "elapsed": 560,
     "status": "ok",
     "timestamp": 1649460546032,
     "user": {
      "displayName": "Valeria S RULLONI",
      "userId": "09936144167370803067"
     },
     "user_tz": 180
    },
    "id": "vTMoYOYcggHG",
    "outputId": "f5f34219-db98-4eed-d5f6-ef08a1f64dc2"
   },
   "outputs": [
    {
     "data": {
      "text/plain": [
       "(100,)"
      ]
     },
     "execution_count": 7,
     "metadata": {},
     "output_type": "execute_result"
    }
   ],
   "source": [
    "sample_means = samples.mean(axis=1) #media de cada fila, tendremos m medias\n",
    "sample_means.shape\n"
   ]
  },
  {
   "cell_type": "markdown",
   "metadata": {
    "id": "pYke1s7RzDip"
   },
   "source": [
    "Veamos la distribución de las m realizaciones del estadístico $\\overline{X}= \\frac{1}{n} \\sum_{i=1}^{n} X_i$ "
   ]
  },
  {
   "cell_type": "code",
   "execution_count": 8,
   "metadata": {
    "colab": {
     "base_uri": "https://localhost:8080/",
     "height": 314
    },
    "executionInfo": {
     "elapsed": 815,
     "status": "ok",
     "timestamp": 1649460551646,
     "user": {
      "displayName": "Valeria S RULLONI",
      "userId": "09936144167370803067"
     },
     "user_tz": 180
    },
    "id": "hc9eGpQ9grtr",
    "outputId": "301582d5-b33a-475e-b404-8fd6845e328d"
   },
   "outputs": [
    {
     "name": "stdout",
     "output_type": "stream",
     "text": [
      "Media de medias = 7.004605820635265\n",
      "Varianza de medias = 0.0018147509126296502\n"
     ]
    },
    {
     "data": {
      "image/png": "[encoded data removed]",
      "text/plain": [
       "<Figure size 432x288 with 1 Axes>"
      ]
     },
     "metadata": {
      "needs_background": "light"
     },
     "output_type": "display_data"
    }
   ],
   "source": [
    "seaborn.histplot(sample_means, bins=20)\n",
    "print('Media de medias =', sample_means. mean())\n",
    "print('Varianza de medias =', sample_means. var())"
   ]
  },
  {
   "cell_type": "code",
   "execution_count": 9,
   "metadata": {
    "colab": {
     "base_uri": "https://localhost:8080/"
    },
    "executionInfo": {
     "elapsed": 815,
     "status": "ok",
     "timestamp": 1620175050482,
     "user": {
      "displayName": "Valeria S RULLONI",
      "photoUrl": "",
      "userId": "09936144167370803067"
     },
     "user_tz": 180
    },
    "id": "HKXWKs-m1A-p",
    "outputId": "69f1ff80-d708-4fb7-a6d1-190ba54f06c9"
   },
   "outputs": [
    {
     "data": {
      "text/plain": [
       "(7.004605820635265, 0.04259989334059007, 0.0018147509126296502)"
      ]
     },
     "execution_count": 9,
     "metadata": {},
     "output_type": "execute_result"
    }
   ],
   "source": [
    "# documentación de la función norm de scipy\n",
    "# https://docs.scipy.org/doc/scipy/reference/generated/scipy.stats.norm.html\n",
    "# Estima la media y el desvío (los parámetros de una normal)  \n",
    "media, std = scipy.stats.norm.fit(sample_means)\n",
    "media, std, std**2"
   ]
  },
  {
   "cell_type": "markdown",
   "metadata": {
    "id": "BvmZXXqappna"
   },
   "source": [
    "## Ejercicio 1 (para realizar en clase 3)\n",
    "\n",
    "1. Analizar qué pasa cuando crece $n$ y ver la distribución de $\\overline{X}= \\frac{1}{n} \\sum_{i=1}^{n} X_i$ cuando $n\\rightarrow \\infty$ (el tamaño de la muestra). ¿Qué sucede con la varianza?\n",
    "\n",
    "2. Realizar el mismo análisis con otra distribución no normal, por ejemplo, exponencial."
   ]
  },
  {
   "cell_type": "markdown",
   "metadata": {
    "id": "aOx1GO8Zl6By"
   },
   "source": [
    "#Estimación puntual y por intervalos (Opcional)\n"
   ]
  },
  {
   "cell_type": "markdown",
   "metadata": {
    "id": "BHgXE4R70mKw"
   },
   "source": [
    "## Ejercicio 2: Estimadores puntuales y por intervalos (para practicar luego)\n",
    "0. Fijar n=700\n",
    "1. Dar un estimador puntual de la media de la distribución generada"
   ]
  },
  {
   "cell_type": "markdown",
   "metadata": {
    "id": "skMmesMK2Aud"
   },
   "source": [
    "2. Dar un intervalo de confianza (IC) para la media de nivel asintótico 0.95=(1-alpha), calcular la longitud del intervalo.\n",
    "3. Dar m=1000 realizaciones del **intervalo de confianza** para **la media** de nivel 0.95 y contar cuantos contienen a **la media** verdadera. \n",
    "4. Incrementar n=4000 (por 4) y repetir el paso 2. Qué le pasó a la longitud el IC ?\n"
   ]
  },
  {
   "cell_type": "code",
   "execution_count": null,
   "metadata": {
    "id": "C-LInNjd9VJb"
   },
   "outputs": [],
   "source": []
  }
 ],
 "metadata": {
  "colab": {
   "name": "04 Estadísticos.ipynb",
   "provenance": []
  },
  "kernelspec": {
   "display_name": "Python 3 (ipykernel)",
   "language": "python",
   "name": "python3"
  },
  "language_info": {
   "codemirror_mode": {
    "name": "ipython",
    "version": 3
   },
   "file_extension": ".py",
   "mimetype": "text/x-python",
   "name": "python",
   "nbconvert_exporter": "python",
   "pygments_lexer": "ipython3",
   "version": "3.9.7"
  }
 },
 "nbformat": 4,
 "nbformat_minor": 4
}
